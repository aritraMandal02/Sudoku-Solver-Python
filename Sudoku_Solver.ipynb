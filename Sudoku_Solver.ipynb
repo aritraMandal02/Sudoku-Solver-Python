{
  "nbformat": 4,
  "nbformat_minor": 0,
  "metadata": {
    "colab": {
      "name": "Sudoku_Solver.ipynb",
      "provenance": [],
      "authorship_tag": "ABX9TyOMnCGNk1AdOPJcElgqn/F5",
      "include_colab_link": true
    },
    "kernelspec": {
      "name": "python3",
      "display_name": "Python 3"
    },
    "language_info": {
      "name": "python"
    }
  },
  "cells": [
    {
      "cell_type": "markdown",
      "metadata": {
        "id": "view-in-github",
        "colab_type": "text"
      },
      "source": [
        "<a href=\"https://colab.research.google.com/github/aritraMandal02/Sudoku-Solver-Python/blob/main/Sudoku_Solver.ipynb\" target=\"_parent\"><img src=\"https://colab.research.google.com/assets/colab-badge.svg\" alt=\"Open In Colab\"/></a>"
      ]
    },
    {
      "cell_type": "markdown",
      "source": [
        "#### Algorithm Steps and Explanation: Backtracking Algorithm\n",
        "  1. Pick an Empty Square\n",
        "  2. Try all numbers\n",
        "  3. Find one that works\n",
        "  4. Recursive Backtrack"
      ],
      "metadata": {
        "id": "-XhiBsD1xYA3"
      }
    },
    {
      "cell_type": "code",
      "execution_count": 30,
      "metadata": {
        "id": "TTVjXKFCxB6P"
      },
      "outputs": [],
      "source": [
        "board = [\n",
        "    [7,8,0,4,0,0,1,2,0],\n",
        "    [6,0,0,0,7,5,0,0,9],\n",
        "    [0,0,0,6,0,1,0,7,8],\n",
        "    [0,0,7,0,4,0,2,6,0],\n",
        "    [0,0,1,0,5,0,9,3,0],\n",
        "    [9,0,4,0,6,0,0,0,5],\n",
        "    [0,7,0,3,0,0,0,1,2],\n",
        "    [1,2,0,0,0,7,4,0,0],\n",
        "    [0,4,9,2,0,6,0,0,7]\n",
        "]"
      ]
    },
    {
      "cell_type": "markdown",
      "source": [
        "#### Printing the Board"
      ],
      "metadata": {
        "id": "Nuj6fEer4LDW"
      }
    },
    {
      "cell_type": "code",
      "source": [
        "def print_board(bo):\n",
        "  for i in range(len(bo)):\n",
        "    if i%3 == 0 and i != 0:\n",
        "      print('- - - | - - - | - - -')\n",
        "    for j in range(len(bo[0])):\n",
        "      if j%3 == 0 and j != 0:\n",
        "        print('|', end=\" \")\n",
        "      print(bo[i][j], end=\" \")\n",
        "    print(\"\")\n",
        "\n",
        "print_board(board)\n"
      ],
      "metadata": {
        "colab": {
          "base_uri": "https://localhost:8080/"
        },
        "id": "g8TNxscTzRfF",
        "outputId": "b2bf61aa-256b-4369-9684-09be3c962a6a"
      },
      "execution_count": 31,
      "outputs": [
        {
          "output_type": "stream",
          "name": "stdout",
          "text": [
            "7 8 0 | 4 0 0 | 1 2 0 \n",
            "6 0 0 | 0 7 5 | 0 0 9 \n",
            "0 0 0 | 6 0 1 | 0 7 8 \n",
            "- - - | - - - | - - -\n",
            "0 0 7 | 0 4 0 | 2 6 0 \n",
            "0 0 1 | 0 5 0 | 9 3 0 \n",
            "9 0 4 | 0 6 0 | 0 0 5 \n",
            "- - - | - - - | - - -\n",
            "0 7 0 | 3 0 0 | 0 1 2 \n",
            "1 2 0 | 0 0 7 | 4 0 0 \n",
            "0 4 9 | 2 0 6 | 0 0 7 \n"
          ]
        }
      ]
    },
    {
      "cell_type": "markdown",
      "source": [
        "#### Find Empty Squares"
      ],
      "metadata": {
        "id": "rU5zBxfH6uxn"
      }
    },
    {
      "cell_type": "code",
      "source": [
        "def find_empty(bo):\n",
        "  for i in range(len(bo)):\n",
        "    for j in range(len(bo[0])):\n",
        "      if bo[i][j] == 0:\n",
        "       # print(f'({i}, {j})')\n",
        "        return (i, j)\n",
        "\n",
        "  return None"
      ],
      "metadata": {
        "id": "rLCFCH796e2B"
      },
      "execution_count": 33,
      "outputs": []
    },
    {
      "cell_type": "markdown",
      "source": [
        "#### Finding the Valid Solution for Empty Spaces"
      ],
      "metadata": {
        "id": "kd3A0XSRBZL_"
      }
    },
    {
      "cell_type": "code",
      "source": [
        "def valid(bo, num, pos):\n",
        "  # Check row\n",
        "  for i in range(len(bo[0])):\n",
        "    if bo[pos[0]][i] == num and i != pos[1]:\n",
        "      return False\n",
        "  \n",
        "  # Check column\n",
        "  for i in range(len(bo)):\n",
        "    if bo[i][pos[1]] == num and i != pos[1]:\n",
        "      return False\n",
        "\n",
        "  grid_i = pos[0] // 3\n",
        "  grid_j = pos[1] // 3\n",
        "  # Check grid\n",
        "  for i in range(grid_i*3, grid_i*3 + 3):\n",
        "    for j in range(grid_j*3, grid_j*3 + 3):\n",
        "      if bo[i][j] == num and (i, j) != pos:\n",
        "        return False  \n",
        "\n",
        "  return True"
      ],
      "metadata": {
        "id": "z8qTTtjd8kUo"
      },
      "execution_count": 34,
      "outputs": []
    },
    {
      "cell_type": "markdown",
      "source": [
        "#### Solving: Backtracking"
      ],
      "metadata": {
        "id": "75w5ACllOKJ3"
      }
    },
    {
      "cell_type": "code",
      "source": [
        "def solve(bo):\n",
        "  find = find_empty(bo)\n",
        "  if not find:\n",
        "    return True\n",
        "  else:\n",
        "    row, col = find\n",
        "  \n",
        "  for i in range(1, 10):\n",
        "    if valid(bo, i, find):\n",
        "      bo[row][col] = i\n",
        "      if(solve(bo)):\n",
        "        return True\n",
        "\n",
        "      bo[row][col] = 0\n",
        "  \n",
        "  return False"
      ],
      "metadata": {
        "id": "JuebbJ_ZOJf6"
      },
      "execution_count": 35,
      "outputs": []
    },
    {
      "cell_type": "markdown",
      "source": [
        "#### Solving and Printing Solved Board"
      ],
      "metadata": {
        "id": "9e-3aV2xZ8qi"
      }
    },
    {
      "cell_type": "code",
      "source": [
        "solve(board)"
      ],
      "metadata": {
        "colab": {
          "base_uri": "https://localhost:8080/"
        },
        "id": "Ave9kXnSZ4Kr",
        "outputId": "a65f3a14-9eb7-4460-841e-f745d08786ce"
      },
      "execution_count": 36,
      "outputs": [
        {
          "output_type": "execute_result",
          "data": {
            "text/plain": [
              "True"
            ]
          },
          "metadata": {},
          "execution_count": 36
        }
      ]
    },
    {
      "cell_type": "code",
      "source": [
        "print_board(board)"
      ],
      "metadata": {
        "colab": {
          "base_uri": "https://localhost:8080/"
        },
        "id": "1RUFWsKZakp9",
        "outputId": "d53f1b35-7320-4e5e-a473-a3c86e160ec2"
      },
      "execution_count": 37,
      "outputs": [
        {
          "output_type": "stream",
          "name": "stdout",
          "text": [
            "7 8 5 | 4 3 9 | 1 2 6 \n",
            "6 1 2 | 8 7 5 | 3 4 9 \n",
            "4 9 3 | 6 2 1 | 5 7 8 \n",
            "- - - | - - - | - - -\n",
            "8 5 7 | 9 4 3 | 2 6 1 \n",
            "2 6 1 | 7 5 8 | 9 3 4 \n",
            "9 3 4 | 1 6 2 | 7 8 5 \n",
            "- - - | - - - | - - -\n",
            "5 7 8 | 3 9 4 | 6 1 2 \n",
            "1 2 6 | 5 8 7 | 4 9 3 \n",
            "3 4 9 | 2 1 6 | 8 5 7 \n"
          ]
        }
      ]
    }
  ]
}